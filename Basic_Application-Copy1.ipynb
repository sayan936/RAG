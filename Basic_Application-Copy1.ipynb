{
 "cells": [
  {
   "cell_type": "code",
   "execution_count": 27,
   "id": "3b934c6d-4ab7-4fdb-86b5-2f0a5ea4c1f7",
   "metadata": {},
   "outputs": [],
   "source": [
    "import os"
   ]
  },
  {
   "cell_type": "code",
   "execution_count": 28,
   "id": "ea7af685-71b8-40a5-aae8-a57f2f8a8580",
   "metadata": {},
   "outputs": [],
   "source": [
    "model_name = sayan-gpt35trubo16k\n",
    "os.environ[\"AZURE_OPENAI_API_KEY\"] = \"d92ec509f0724079b5902d66692f75d6\"\n",
    "os.environ[\"AZURE_OPENAI_ENDPOINT\"] = \"https://raviriturajrohansaurabhsayan.openai.azure.com/\"\n",
    "os.environ[\"OPENAI_API_VERSION\"] = \"2024-02-01\"\n",
    "#os.environ[\"HUGGING_FACE_API\"] = "
   ]
  },
  {
   "cell_type": "code",
   "execution_count": 29,
   "id": "6720b5e7-2e9c-4159-8b62-4a392f1788c6",
   "metadata": {},
   "outputs": [
    {
     "name": "stdout",
     "output_type": "stream",
     "text": [
      "Yes, other Azure AI services also support customer managed keys for added security and control. Examples of such services include Azure Cognitive Services and Azure Machine Learning.\n"
     ]
    }
   ],
   "source": [
    "from openai import AzureOpenAI\n",
    "\n",
    "client = AzureOpenAI(\n",
    "  azure_endpoint = os.getenv(\"AZURE_OPENAI_ENDPOINT\"), \n",
    "  api_key=os.getenv(\"AZURE_OPENAI_API_KEY\"),  \n",
    "  api_version=\"2024-02-01\"\n",
    ")\n",
    "\n",
    "response = client.chat.completions.create(\n",
    "    model=\"karan-gpt35trubo16k\", # model = \"deployment_name\".\n",
    "    messages=[\n",
    "        {\"role\": \"system\", \"content\": \"You are a helpful assistant.\"},\n",
    "        {\"role\": \"user\", \"content\": \"Does Azure OpenAI support customer managed keys?\"},\n",
    "        {\"role\": \"assistant\", \"content\": \"Yes, customer managed keys are supported by Azure OpenAI.\"},\n",
    "        {\"role\": \"user\", \"content\": \"Do other Azure AI services support this too?\"}\n",
    "    ]\n",
    ")\n",
    "\n",
    "print(response.choices[0].message.content)"
   ]
  },
  {
   "cell_type": "markdown",
   "id": "e3fb9f19-1fce-427e-921e-44ba8d410313",
   "metadata": {},
   "source": [
    "## Langchain Approach"
   ]
  },
  {
   "cell_type": "code",
   "execution_count": 88,
   "id": "bfcfe3ec-671d-44c0-b3c2-c69e574c1a40",
   "metadata": {},
   "outputs": [],
   "source": [
    "from langchain_openai import AzureChatOpenAI"
   ]
  },
  {
   "cell_type": "code",
   "execution_count": 89,
   "id": "8f1f2024-b0ac-465a-8ced-606f4f386fd2",
   "metadata": {},
   "outputs": [
    {
     "data": {
      "text/plain": [
       "AIMessage(content=\"A large language model refers to a type of artificial intelligence model that is trained on a vast amount of text data to understand and generate human-like language. These models are typically built using deep learning techniques, such as transformers, and are capable of performing a range of natural language processing tasks, including language translation, text generation, question answering, summarization, and more. These models have millions or even billions of parameters, allowing them to capture intricate patterns and nuances in language. Examples of large language models include OpenAI's GPT-3 (Generative Pre-trained Transformer 3) and Google's BERT (Bidirectional Encoder Representations from Transformers).\", response_metadata={'token_usage': {'completion_tokens': 130, 'prompt_tokens': 13, 'total_tokens': 143}, 'model_name': 'gpt-35-turbo-16k', 'system_fingerprint': None, 'prompt_filter_results': [{'prompt_index': 0, 'content_filter_results': {'hate': {'filtered': False, 'severity': 'safe'}, 'jailbreak': {'filtered': False, 'detected': False}, 'self_harm': {'filtered': False, 'severity': 'safe'}, 'sexual': {'filtered': False, 'severity': 'safe'}, 'violence': {'filtered': False, 'severity': 'safe'}}}], 'finish_reason': 'stop', 'logprobs': None, 'content_filter_results': {'hate': {'filtered': False, 'severity': 'safe'}, 'protected_material_code': {'filtered': False, 'detected': False}, 'protected_material_text': {'filtered': False, 'detected': False}, 'self_harm': {'filtered': False, 'severity': 'safe'}, 'sexual': {'filtered': False, 'severity': 'safe'}, 'violence': {'filtered': False, 'severity': 'safe'}}}, id='run-e35af333-d6ba-4067-b79c-3efff3a3c713-0')"
      ]
     },
     "execution_count": 89,
     "metadata": {},
     "output_type": "execute_result"
    }
   ],
   "source": [
    "llm = AzureChatOpenAI(\n",
    "    deployment_name=\"karan-gpt35trubo16k\",\n",
    ")\n",
    "llm.invoke(\"What is Large Language Model?\")"
   ]
  },
  {
   "cell_type": "code",
   "execution_count": 12,
   "id": "9ed98d3b-2e66-417e-9436-4bc533ea33cc",
   "metadata": {},
   "outputs": [],
   "source": [
    "from langchain_core.output_parsers import StrOutputParser\n",
    "\n",
    "parser = StrOutputParser()"
   ]
  },
  {
   "cell_type": "code",
   "execution_count": 90,
   "id": "4b7102f7-2e7a-483d-9b0d-ba9d3f1c0afa",
   "metadata": {},
   "outputs": [
    {
     "data": {
      "text/plain": [
       "\"Large language models refer to artificial intelligence models that are trained on vast amounts of data to understand and generate human-like text. These models are typically based on deep learning techniques, specifically using transformer architectures. They are capable of generating coherent and contextually relevant text in response to prompts or queries.\\n\\nLarge language models have the ability to understand and generate text across various domains and languages. They can perform tasks like language translation, summarization, sentiment analysis, question answering, and even creative writing. These models are trained on massive datasets, often including books, articles, websites, and other textual sources, to acquire a broad understanding of human language patterns and knowledge.\\n\\nProminent examples of large language models include OpenAI's GPT (Generative Pre-trained Transformer) models, such as GPT-3, which has 175 billion parameters. These models have demonstrated impressive capabilities in generating human-like text and have been used for a wide range of applications, from chatbots and virtual assistants to content generation and language understanding tasks.\""
      ]
     },
     "execution_count": 90,
     "metadata": {},
     "output_type": "execute_result"
    }
   ],
   "source": [
    "llm = AzureChatOpenAI(\n",
    "    deployment_name=\"karan-gpt35trubo16k\",\n",
    ")\n",
    "result = llm.invoke(\"What is Large Language Models?\")\n",
    "parser.invoke(result)"
   ]
  },
  {
   "cell_type": "markdown",
   "id": "7605bb7c-71a0-4368-b420-b08493d2c4ec",
   "metadata": {},
   "source": [
    "### Creating chains using LCEL"
   ]
  },
  {
   "cell_type": "code",
   "execution_count": null,
   "id": "c05559fc-5f33-4e41-b13e-28936117eba7",
   "metadata": {},
   "outputs": [],
   "source": []
  },
  {
   "cell_type": "code",
   "execution_count": 32,
   "id": "9e83bf95-bc0d-44b8-a809-864da239ddef",
   "metadata": {},
   "outputs": [],
   "source": [
    "import os\n",
    "from langchain_core.prompts import ChatPromptTemplate, FewShotPromptTemplate\n",
    "from langchain_openai import AzureChatOpenAI\n",
    "from langchain.schema import SystemMessage, HumanMessage, AIMessage\n",
    "from langchain.chains import LLMChain\n",
    "from langchain_core.output_parsers import StrOutputParser\n",
    "from langchain_core.prompts import ChatPromptTemplate, FewShotChatMessagePromptTemplate"
   ]
  },
  {
   "cell_type": "code",
   "execution_count": 91,
   "id": "3a13509d-530b-4dec-a77a-f3ba5c4636b6",
   "metadata": {},
   "outputs": [],
   "source": [
    "# Set up the Azure OpenAI model\n",
    "model = AzureChatOpenAI(\n",
    "    deployment_name=\"karan-gpt35trubo16k\",\n",
    ")\n"
   ]
  },
  {
   "cell_type": "markdown",
   "id": "272739b6-7f42-41c8-b1f8-daa72c0d53db",
   "metadata": {},
   "source": [
    "### Few-Shot Examples:\n",
    "\n",
    "1. **Example 1: Introduction to Generative AI**\n",
    "   - User: \"Can you explain what generative AI is?\"\n",
    "     - Assistant: \"Generative AI refers to algorithms that generate new content, such as images, text, or even music, based on patterns in data. It's different from other AI approaches because it focuses on creating rather than just analyzing or predicting.\"\n",
    "\n",
    "2. **Example 2: Understanding Neural Networks**\n",
    "   - User: \"What are neural networks and how do they work?\"\n",
    "     - Assistant: \"Neural networks are a type of machine learning model inspired by the human brain. They consist of interconnected nodes, or neurons, organized in layers. These networks can learn patterns and make decisions based on input data, making them versatile for tasks like image recognition and natural language processing.\"\n",
    "\n",
    "3. **Example 3: Applications of Generative AI**\n",
    "   - User: \"Where is generative AI used?\"\n",
    "     - Assistant: \"Generative AI finds applications in various fields. For instance, in healthcare, it helps in generating synthetic data for training medical models. In entertainment, it's used to create realistic characters and scenes in movies and games.\"\n",
    "\n",
    "4. **Example 4: Training and Evaluation in Machine Learning**\n",
    "   - User: \"How do you train a machine learning model?\"\n",
    "     - Assistant: \"Training a model involves feeding it with labeled data, letting it learn patterns, and adjusting its parameters to minimize errors. Evaluation metrics like accuracy and F1 score are then used to measure how well the model performs on new, unseen data.\"\n",
    "\n",
    "5. **Example 5: Ethical Considerations in AI Development**\n",
    "   - User: \"What ethical issues should be considered in AI development?\"\n",
    "     - Assistant: \"Ethical concerns in AI include issues like bias in training data, privacy implications of data usage, and the potential for automation to impact jobs. It's important for developers to prioritize fairness, transparency, and accountability in AI systems.\"\n"
   ]
  },
  {
   "cell_type": "code",
   "execution_count": 92,
   "id": "95db36d9-adb1-4036-b960-c92129e4cb1d",
   "metadata": {},
   "outputs": [],
   "source": [
    "examples = [\n",
    "    {\n",
    "        \"User\": \"Can you explain what generative AI is?\",\n",
    "        \"Assistant\": '''Generative AI refers to algorithms that generate new content, such as images, text,or even music, based on patterns in data. \n",
    "        It is different from other AI approaches because it focuses on creating rather than just analyzing or predicting.'''\n",
    "        },\n",
    "     {\n",
    "     \"User\": \"How do you train a machine learning model?\",\n",
    "     \"Assistant\": '''Training a model involves feeding it with labeled data, letting it learn patterns, \n",
    "     and adjusting its parameters to minimize errors. Evaluation metrics like accuracy and F1 score are then used to measure how well the model performs on new, unseen data.'''\n",
    "     }\n",
    "]"
   ]
  },
  {
   "cell_type": "code",
   "execution_count": 93,
   "id": "646c4aff-7654-4f69-b19d-666b58dc9cca",
   "metadata": {},
   "outputs": [],
   "source": [
    "example_prompt = ChatPromptTemplate.from_messages(\n",
    "    [\n",
    "        (\"human\", \"{User}\"),\n",
    "        (\"ai\", \"{Assistant}\"),\n",
    "    ]\n",
    ")"
   ]
  },
  {
   "cell_type": "code",
   "execution_count": 94,
   "id": "eabafd51-abe7-4f98-bc47-cc26511e9652",
   "metadata": {},
   "outputs": [],
   "source": [
    "few_shot_prompt = FewShotChatMessagePromptTemplate(\n",
    "    example_prompt=example_prompt,\n",
    "    examples=examples,\n",
    "    \n",
    ")"
   ]
  },
  {
   "cell_type": "code",
   "execution_count": 95,
   "id": "847cb83b-2cb3-4f43-aa0f-d754db286193",
   "metadata": {},
   "outputs": [
    {
     "name": "stdout",
     "output_type": "stream",
     "text": [
      "Human: Can you explain what generative AI is?\n",
      "AI: Generative AI refers to algorithms that generate new content, such as images, text,or even music, based on patterns in data. \n",
      "        It is different from other AI approaches because it focuses on creating rather than just analyzing or predicting.\n",
      "Human: How do you train a machine learning model?\n",
      "AI: Training a model involves feeding it with labeled data, letting it learn patterns, \n",
      "     and adjusting its parameters to minimize errors. Evaluation metrics like accuracy and F1 score are then used to measure how well the model performs on new, unseen data.\n"
     ]
    }
   ],
   "source": [
    "print(few_shot_prompt.format())"
   ]
  },
  {
   "cell_type": "code",
   "execution_count": 96,
   "id": "13d5b3fe-3478-4b3f-81f1-f75cd2f9cfc7",
   "metadata": {},
   "outputs": [],
   "source": [
    "final_prompt = ChatPromptTemplate.from_messages(\n",
    "    [\n",
    "        ('system', 'You are a helpful AI Assistant'),\n",
    "        few_shot_prompt,\n",
    "        (\"human\", \"{User}\"),\n",
    "    ]\n",
    ")"
   ]
  },
  {
   "cell_type": "code",
   "execution_count": 97,
   "id": "932318f8-59de-481e-8fbb-4887f320b23e",
   "metadata": {},
   "outputs": [
    {
     "name": "stdout",
     "output_type": "stream",
     "text": [
      "System: You are a helpful AI Assistant\n",
      "Human: Can you explain what generative AI is?\n",
      "AI: Generative AI refers to algorithms that generate new content, such as images, text,or even music, based on patterns in data. \n",
      "        It is different from other AI approaches because it focuses on creating rather than just analyzing or predicting.\n",
      "Human: How do you train a machine learning model?\n",
      "AI: Training a model involves feeding it with labeled data, letting it learn patterns, \n",
      "     and adjusting its parameters to minimize errors. Evaluation metrics like accuracy and F1 score are then used to measure how well the model performs on new, unseen data.\n",
      "Human: What is LLM?\n"
     ]
    }
   ],
   "source": [
    "print(final_prompt.format(User=\"What is LLM?\"))"
   ]
  },
  {
   "cell_type": "code",
   "execution_count": 99,
   "id": "1f6bab36-df91-414e-b03e-a8692650dcd1",
   "metadata": {},
   "outputs": [
    {
     "name": "stdout",
     "output_type": "stream",
     "text": [
      "A Large Language Model (LLM) refers to a type of artificial intelligence model that is trained to understand and generate human-like text. LLMs are typically trained on massive datasets to learn the statistical patterns and relationships in language. They are capable of generating coherent and contextually relevant text, making them useful for tasks like text completion, translation, summarization, and even generating creative content. Examples of popular LLMs include OpenAI's GPT-3 and Google's BERT.\n"
     ]
    }
   ],
   "source": [
    "# Implement a simple parser to process the response\n",
    "parser = StrOutputParser()\n",
    "\n",
    "# Create a chain that uses the prompt, model, and parser\n",
    "# chain = LLMChain(\n",
    "#     llm=model,\n",
    "#     prompt_template=final_prompt,\n",
    "#     parser=parser\n",
    "# )\n",
    "\n",
    "chain = final_prompt | llm | parser\n",
    "\n",
    "# Generate the response using the chain\n",
    "response = chain.invoke({\"User\": \"What is Large Language Model?\"})\n",
    "\n",
    "# Print the parsed response\n",
    "print(response)\n"
   ]
  },
  {
   "cell_type": "code",
   "execution_count": null,
   "id": "4f438c16-67e4-4821-9c12-48a61bc8fe54",
   "metadata": {},
   "outputs": [],
   "source": []
  }
 ],
 "metadata": {
  "kernelspec": {
   "display_name": "Python 3 (ipykernel)",
   "language": "python",
   "name": "python3"
  },
  "language_info": {
   "codemirror_mode": {
    "name": "ipython",
    "version": 3
   },
   "file_extension": ".py",
   "mimetype": "text/x-python",
   "name": "python",
   "nbconvert_exporter": "python",
   "pygments_lexer": "ipython3",
   "version": "3.8.2"
  }
 },
 "nbformat": 4,
 "nbformat_minor": 5
}
